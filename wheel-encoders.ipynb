{
 "cells": [
  {
   "cell_type": "markdown",
   "metadata": {},
   "source": [
    "# Sensor - Wheel Encoders"
   ]
  },
  {
   "cell_type": "markdown",
   "metadata": {},
   "source": [
    "In this notebook we will learn how to use the wheel encoder component to retrieve wheel rotation readings from a Duckiebot."
   ]
  },
  {
   "cell_type": "code",
   "execution_count": null,
   "metadata": {
    "pycharm": {
     "name": "#%%\n"
    }
   },
   "outputs": [],
   "source": [
    "%load_ext autoreload\n",
    "%autoreload 2\n",
    "\n",
    "import os\n",
    "\n",
    "import numpy as np\n",
    "import cv2\n",
    "import matplotlib.pyplot as plt\n",
    "\n",
    "\n",
    "# TODO: change this to the name of your Duckiebot\n",
    "VEHICLE_NAME: str = \"db21j3\""
   ]
  },
  {
   "cell_type": "code",
   "execution_count": null,
   "metadata": {},
   "outputs": [],
   "source": [
    "# Sensor - Wheel Encoders - Read ticks from single wheel\n",
    "\n",
    "from typing import Optional\n",
    "from duckietown.components.duckiebot import WheelEncoderDriverComponent\n",
    "\n",
    "# define component\n",
    "left_wheel_encoder: WheelEncoderDriverComponent = WheelEncoderDriverComponent(vehicle_name=VEHICLE_NAME, side=\"left\")\n",
    "left_wheel_encoder.start()\n",
    "\n",
    "# wait for next reading\n",
    "ticks: int = left_wheel_encoder.out_ticks.get()\n",
    "\n",
    "# print number of ticks (since the robot turned ON)\n",
    "print(f\"Number of ticks: {ticks}\\nResolution: {left_wheel_encoder.resolution} ticks/2π\")\n",
    "\n",
    "# stop component\n",
    "left_wheel_encoder.stop()"
   ]
  },
  {
   "cell_type": "code",
   "execution_count": null,
   "metadata": {},
   "outputs": [],
   "source": [
    "# Sensor - Time-of-Flight - Continuous reading from both wheel\n",
    "\n",
    "from typing import Optional, Tuple\n",
    "from functools import partial\n",
    "\n",
    "from duckietown.components.duckiebot import WheelEncoderDriverComponent \n",
    "from duckietown.components.utilities import SynchronizerComponent\n",
    "from duckietown.components.rendering import MarkdownRendererComponent\n",
    "\n",
    "\n",
    "WHEEL_RADIUS: float = 0.0318\n",
    "scale_meters_per_pixel = 1 / 400  # 1 meter = 400 pixels\n",
    "\n",
    "def convert_meters_to_pixels(distance_meters, scale_meters_per_pixel):\n",
    "    \"\"\"\n",
    "    Convert distance from meters to pixels.\n",
    "\n",
    "    :param distance_meters: Distance traveled in meters.\n",
    "    :param scale_meters_per_pixel: The scale of the map in meters per pixel.\n",
    "    :return: Equivalent distance in pixels.\n",
    "    \"\"\"\n",
    "    pixel_distance = distance_meters / scale_meters_per_pixel\n",
    "    return pixel_distance\n",
    "\n",
    "# define format function\n",
    "def format(left_wheel_encoder: WheelEncoderDriverComponent, right_wheel_encoder: WheelEncoderDriverComponent, ticks: Tuple[int, int]) -> str:\n",
    "    left_ticks, right_ticks = ticks\n",
    "    left_revols, right_revols = left_ticks / left_wheel_encoder.resolution, right_ticks / right_wheel_encoder.resolution\n",
    "    left_rads, right_rads = left_revols * 2 * np.pi, right_revols * 2 * np.pi\n",
    "    left_odom, right_odom = 2 * np.pi * WHEEL_RADIUS * left_revols, 2 * np.pi * WHEEL_RADIUS * right_revols\n",
    "    left_pixels, right_pixels = convert_meters_to_pixels(left_odom, scale_meters_per_pixel), convert_meters_to_pixels(right_odom, scale_meters_per_pixel)\n",
    "    text: str = f\"\"\"\n",
    "| Wheel              | # Ticks       | Radians              | # Revolutions      | Odometer           | Pixels             |\n",
    "| :----------------- | :-----------: | -------------------: | -----------------: | -----------------: | -----------------: |\n",
    "| Left               | {left_ticks}  | {left_rads:.2f} rad  | {left_revols:.2f}  | {left_odom:.2f} m  | {left_pixels} px   |\n",
    "| Right              | {right_ticks} | {right_rads:.2f} rad | {right_revols:.2f} | {right_odom:.2f} m | {right_pixels} px  |\n",
    "\"\"\"\n",
    "    return text\n",
    "\n",
    "# define components\n",
    "left_wheel_encoder: WheelEncoderDriverComponent = WheelEncoderDriverComponent(vehicle_name=VEHICLE_NAME, side=\"left\")\n",
    "right_wheel_encoder: WheelEncoderDriverComponent = WheelEncoderDriverComponent(vehicle_name=VEHICLE_NAME, side=\"right\")\n",
    "synchronizer: SynchronizerComponent = SynchronizerComponent((left_wheel_encoder.out_ticks, right_wheel_encoder.out_ticks))\n",
    "renderer: MarkdownRendererComponent = MarkdownRendererComponent(formatter=partial(format, left_wheel_encoder, right_wheel_encoder))\n",
    "\n",
    "# connect components\n",
    "renderer.in_data.wants(synchronizer.out_data)\n",
    "\n",
    "# start components\n",
    "left_wheel_encoder.start()\n",
    "right_wheel_encoder.start()\n",
    "renderer.start()\n",
    "synchronizer.start()\n",
    "\n",
    "# wait until the cell is stopped\n",
    "renderer.join()\n",
    "\n",
    "# stop components\n",
    "left_wheel_encoder.stop()\n",
    "right_wheel_encoder.stop()\n",
    "renderer.stop()\n",
    "synchronizer.stop()\n",
    "import matplotlib.pyplot as plt\n",
    "\n",
    "# Create an empty map\n",
    "map_width = 1300\n",
    "map_height = 1900\n",
    "map = np.zeros((map_height, map_width))\n",
    "\n",
    "# Set the starting position\n",
    "start_x = 600\n",
    "start_y = 800\n",
    "\n",
    "# Initialize the current position\n",
    "current_x = start_x\n",
    "current_y = start_y\n",
    "\n",
    "# Draw the robot's path\n",
    "for left_pixel, right_pixel in zip(left_pixels, right_pixels):\n",
    "    # Calculate the change in x and y coordinates\n",
    "    delta_x = (left_pixel + right_pixel) / 2\n",
    "    delta_y = (right_pixel - left_pixel) / 2\n",
    "\n",
    "    # Update the current position\n",
    "    current_x += delta_x\n",
    "    current_y += delta_y\n",
    "\n",
    "    # Draw a line from the previous position to the current position\n",
    "    plt.plot([prev_x, current_x], [prev_y, current_y], color='red')\n",
    "\n",
    "    # Update the previous position\n",
    "    prev_x = current_x\n",
    "    prev_y = current_y\n",
    "\n",
    "# Show the map\n",
    "plt.imshow(map, cmap='gray')\n",
    "plt.show()\n",
    "\n",
    "\n",
    "\n"
   ]
  },
  {
   "cell_type": "code",
   "execution_count": null,
   "metadata": {},
   "outputs": [],
   "source": []
  }
 ],
 "metadata": {
  "celltoolbar": "Raw Cell Format",
  "kernelspec": {
   "display_name": "Python 3.8.10 64-bit",
   "language": "python",
   "name": "python3"
  },
  "language_info": {
   "codemirror_mode": {
    "name": "ipython",
    "version": 3
   },
   "file_extension": ".py",
   "mimetype": "text/x-python",
   "name": "python",
   "nbconvert_exporter": "python",
   "pygments_lexer": "ipython3",
   "version": "3.8.10"
  },
  "vscode": {
   "interpreter": {
    "hash": "916dbcbb3f70747c44a77c7bcd40155683ae19c65e1c03b4aa3499c5328201f1"
   }
  }
 },
 "nbformat": 4,
 "nbformat_minor": 4
}
